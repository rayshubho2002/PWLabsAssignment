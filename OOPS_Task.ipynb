{
 "cells": [
  {
   "cell_type": "markdown",
   "id": "23db3915-0509-4e24-b40c-ec787f6696ac",
   "metadata": {},
   "source": [
    "**Q1, Create a vehicle class with an init method having instance variables as name_of_vehicle, max_speed\n",
    "and average_of_vehicle."
   ]
  },
  {
   "cell_type": "code",
   "execution_count": 6,
   "id": "040eabe8-1de2-4d01-bff7-a5a4a32a2e22",
   "metadata": {},
   "outputs": [],
   "source": [
    "class Vehicle:\n",
    "    def __init__(self, name_of_vehicle, max_speed, average_of_vehicle):\n",
    "        self.name_of_vehicle = name_of_vehicle\n",
    "        self.max_speed = max_speed\n",
    "        self.average_of_vehicle = average_of_vehicle\n"
   ]
  },
  {
   "cell_type": "markdown",
   "id": "6f9214c3-eb83-4d30-b324-9597057d776e",
   "metadata": {},
   "source": [
    "In this class, name_of_vehicle, max_speed, and average_of_vehicle are the instance variables. They are prefixed with self to indicate that they belong to the instance of the class.\n",
    "\n",
    "You can create an instance of the Vehicle class and set the values for these variables like this:"
   ]
  },
  {
   "cell_type": "code",
   "execution_count": 5,
   "id": "4acdf3d2-ea08-4480-8858-670eec9eaf14",
   "metadata": {},
   "outputs": [
    {
     "name": "stdout",
     "output_type": "stream",
     "text": [
      "Car\n",
      "200\n",
      "50\n"
     ]
    }
   ],
   "source": [
    "car=Vehicle(\"Car\",200,50)\n",
    "print(car.name_of_vehicle)\n",
    "print(car.max_speed)\n",
    "print(car.average_of_vehicle)\n"
   ]
  },
  {
   "cell_type": "code",
   "execution_count": null,
   "id": "e6610e9b-c05b-43fd-8cee-b75771b3f6a9",
   "metadata": {},
   "outputs": [],
   "source": []
  },
  {
   "cell_type": "code",
   "execution_count": null,
   "id": "f20b2706-f816-46c8-9b93-81a9e2901487",
   "metadata": {},
   "outputs": [],
   "source": []
  },
  {
   "cell_type": "code",
   "execution_count": null,
   "id": "d1e81831-be3e-409c-9b8f-9ae2d81ec92f",
   "metadata": {},
   "outputs": [],
   "source": []
  }
 ],
 "metadata": {
  "kernelspec": {
   "display_name": "Python 3 (ipykernel)",
   "language": "python",
   "name": "python3"
  },
  "language_info": {
   "codemirror_mode": {
    "name": "ipython",
    "version": 3
   },
   "file_extension": ".py",
   "mimetype": "text/x-python",
   "name": "python",
   "nbconvert_exporter": "python",
   "pygments_lexer": "ipython3",
   "version": "3.10.8"
  }
 },
 "nbformat": 4,
 "nbformat_minor": 5
}
