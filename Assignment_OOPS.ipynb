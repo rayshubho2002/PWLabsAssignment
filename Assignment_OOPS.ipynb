{
 "cells": [
  {
   "cell_type": "markdown",
   "id": "27dec401-1ae5-4843-bae2-b06564859310",
   "metadata": {},
   "source": [
    "# Q1. Explain Class and Object with respect to Object-Oriented Programming. Give a suitable example."
   ]
  },
  {
   "cell_type": "markdown",
   "id": "f5e44d2b-6654-44d8-b204-5726a5561347",
   "metadata": {},
   "source": [
    " Ans. In Python, a class is a blueprint or a template for creating objects. A class defines the properties (attributes) and methods of the objects that will be created from it. Objects, on the other hand, are instances of classes, which means they are created based on the blueprint provided by the class.\n",
    "Let's consider an example to understand this better. Suppose we want to create a class called Person that defines the properties of a person, such as their name and age. Here's how we could define the Person class in Python:"
   ]
  },
  {
   "cell_type": "code",
   "execution_count": 2,
   "id": "e1299613-9769-4f2c-b324-f6d18df1df00",
   "metadata": {},
   "outputs": [],
   "source": [
    "class Person:\n",
    "    def __init__(self, name, age):\n",
    "        self.name = name\n",
    "        self.age = age\n",
    "\n",
    "    def introduce(self):\n",
    "        print(\"Hi, my name is\", self.name, \"and I am\", self.age, \"years old.\")\n"
   ]
  },
  {
   "cell_type": "markdown",
   "id": "85b17a13-ff91-4f83-bf86-f2ab1415ce9b",
   "metadata": {},
   "source": [
    "In this example, we have defined the Person class with two attributes: name and age, and a method called introduce which prints out an introduction for the person.\n",
    "\n",
    "To create an object from the Person class, we would use the following syntax:"
   ]
  },
  {
   "cell_type": "code",
   "execution_count": 3,
   "id": "a8a60206-ec5e-4666-976f-7696f7b40058",
   "metadata": {},
   "outputs": [],
   "source": [
    "person1 = Person(\"Shubho\", 20)"
   ]
  },
  {
   "cell_type": "markdown",
   "id": "b2fdcd0c-0f85-46a4-937d-fb8e120b7a0a",
   "metadata": {},
   "source": [
    "This creates an object called person1 based on the Person class, with the name \"Alice\" and the age of 25.\n",
    "\n",
    "We can access the attributes of the object using the dot notation, like this:"
   ]
  },
  {
   "cell_type": "code",
   "execution_count": 4,
   "id": "4d03eb9e-f78b-4479-985d-5ffa2b779730",
   "metadata": {},
   "outputs": [
    {
     "name": "stdout",
     "output_type": "stream",
     "text": [
      "Shubho\n",
      "20\n"
     ]
    }
   ],
   "source": [
    "print(person1.name) \n",
    "print(person1.age) \n"
   ]
  },
  {
   "cell_type": "markdown",
   "id": "b0719065-d6ae-47a1-b370-923cd538f00d",
   "metadata": {},
   "source": [
    "We can also call the introduce method on the object, like this:\n",
    "\n"
   ]
  },
  {
   "cell_type": "code",
   "execution_count": 5,
   "id": "23d4638c-bbf8-4c30-a802-83aed43aff3f",
   "metadata": {},
   "outputs": [
    {
     "name": "stdout",
     "output_type": "stream",
     "text": [
      "Hi, my name is Shubho and I am 20 years old.\n"
     ]
    }
   ],
   "source": [
    "person1.introduce() \n"
   ]
  },
  {
   "cell_type": "markdown",
   "id": "b27fa903-aa60-4d30-b577-b7f026ce1951",
   "metadata": {},
   "source": [
    "## Q2. Name the four pillars of OOPs."
   ]
  },
  {
   "cell_type": "code",
   "execution_count": null,
   "id": "40ae5b74-f4d3-4354-8578-10662f7d70ad",
   "metadata": {},
   "outputs": [],
   "source": []
  },
  {
   "cell_type": "markdown",
   "id": "5653faef-e247-4e07-9c3e-eeebd1038173",
   "metadata": {},
   "source": [
    "Ans. The four pillars of Object-Oriented Programming (OOP) in Python are the same as in any other object-oriented programming language:\n",
    "\n",
    "Encapsulation: In Python, encapsulation is achieved through the use of private and protected access modifiers. We can define private attributes and methods using a double underscore prefix (__), which makes them inaccessible from outside the class. We can also define protected attributes and methods using a single underscore prefix (_), which signals that they should not be accessed from outside the class unless necessary.\n",
    "\n",
    "Abstraction: In Python, abstraction is achieved through the use of abstract classes and interfaces. Abstract classes are classes that cannot be instantiated and are used as a base class for other classes. Interfaces, on the other hand, define a set of methods that a class must implement. Both of these concepts allow us to create a simplified model of a complex system and focus only on the relevant details.\n",
    "\n",
    "Inheritance: In Python, inheritance is achieved using the same syntax as other object-oriented programming languages. We can create a new class by inheriting from an existing class using the class ChildClass(ParentClass): syntax. The child class will inherit all the attributes and methods of the parent class, allowing us to reuse the code and avoid duplication.\n",
    "\n",
    "Polymorphism: In Python, polymorphism is achieved through method overriding and method overloading. Method overriding allows us to redefine a method in the child class that has already been defined in the parent class. Method overloading, on the other hand, allows us to define multiple methods with the same name but different parameters in the same class. This allows us to write flexible and extensible code that can handle different types of objects."
   ]
  },
  {
   "cell_type": "markdown",
   "id": "7e57540c-328b-4a9b-af64-5c3f308ddc78",
   "metadata": {},
   "source": [
    "# Q3.Explain why the __init__() function is used. Give a suitable example."
   ]
  },
  {
   "cell_type": "markdown",
   "id": "f81d9022-97b8-4abc-a183-63877489d349",
   "metadata": {},
   "source": [
    "Ans.To understand the meaning of classes we have to understand the built-in __init__() function.\n",
    "\n",
    "All classes have a function called __init__(), which is always executed when the class is being initiated.\n",
    "\n",
    "Use the __init__() function to assign values to object properties, or other operations that are necessary to do when the object is being created:\n",
    "\n"
   ]
  },
  {
   "cell_type": "markdown",
   "id": "97d5d8cd-a7a7-40b3-a846-928098aa5cf0",
   "metadata": {},
   "source": [
    "#Example\n",
    "class Person:\n",
    "  def __init__(self, name, age):\n",
    "    self.name = name\n",
    "    self.age = age\n",
    "\n",
    "p1 = Person(\"John\", 36)\n",
    "\n",
    "print(p1.name)\n",
    "print(p1.age)"
   ]
  },
  {
   "cell_type": "markdown",
   "id": "690a9cfe-3648-4711-9bec-084803559d46",
   "metadata": {},
   "source": [
    "## Q4. Why self is used in OOPs?"
   ]
  },
  {
   "cell_type": "markdown",
   "id": "4c61e4d0-8543-48dc-840f-4b0ef96f5a06",
   "metadata": {},
   "source": [
    "Ans.In Object-Oriented Programming (OOP), self is used to refer to the instance of the class that is currently being operated on. It is a convention in many object-oriented programming languages, including Python.\n",
    "\n",
    "When you create an object from a class, the object is an instance of that class. The self parameter in a method refers to the specific instance of the class that the method is being called on. This allows the method to access and manipulate the attributes and methods of that instance."
   ]
  },
  {
   "cell_type": "code",
   "execution_count": 9,
   "id": "bd94eeb8-4284-4b99-a719-32143a94038d",
   "metadata": {},
   "outputs": [],
   "source": [
    "class Car:\n",
    "    def __init__(self, make, model, year):\n",
    "        self.make = make\n",
    "        self.model = model\n",
    "        self.year = year\n",
    "    \n",
    "    def start_engine(self):\n",
    "        print(f\"{self.make} {self.model} ({self.year}) engine started\")\n"
   ]
  },
  {
   "cell_type": "code",
   "execution_count": 10,
   "id": "7816e0b8-2035-4e7f-8bef-ae1b8925c3d7",
   "metadata": {},
   "outputs": [
    {
     "name": "stdout",
     "output_type": "stream",
     "text": [
      "Toyota Corolla (2021) engine started\n"
     ]
    }
   ],
   "source": [
    "my_car = Car(\"Toyota\", \"Corolla\", 2021)\n",
    "my_car.start_engine() \n"
   ]
  },
  {
   "cell_type": "markdown",
   "id": "801d0b0d-8c00-4173-8e17-4575ef142aae",
   "metadata": {},
   "source": [
    "Without the self parameter, we would not be able to access the specific instance of the Car class that the method is being called on, and the method would not be able to manipulate the attributes and methods of that instance."
   ]
  },
  {
   "cell_type": "markdown",
   "id": "7d72969f-00c5-4ea9-831d-efb4026bde53",
   "metadata": {},
   "source": [
    "# Q5. What is inheritance? Give an example for each type of inheritance."
   ]
  },
  {
   "cell_type": "markdown",
   "id": "34644fca-4455-4daf-9136-d037a35681f7",
   "metadata": {},
   "source": [
    "Ans.Single inheritance: In single inheritance, a new class is derived from a single parent class.\n"
   ]
  },
  {
   "cell_type": "code",
   "execution_count": 14,
   "id": "2241a023-1665-4695-bd42-803798a69bd2",
   "metadata": {},
   "outputs": [
    {
     "name": "stdout",
     "output_type": "stream",
     "text": [
      "Buddy\n",
      "Woof!\n"
     ]
    }
   ],
   "source": [
    "class Animal:\n",
    "    def __init__(self, name):\n",
    "        self.name = name\n",
    "    \n",
    "    def speak(self):\n",
    "        print(\"Animal sound\")\n",
    "\n",
    "class Dog(Animal):\n",
    "    def __init__(self, name):\n",
    "        super().__init__(name)\n",
    "    \n",
    "    def speak(self):\n",
    "        print(\"Woof!\")\n",
    "\n",
    "my_dog = Dog(\"Buddy\")\n",
    "print(my_dog.name) # Output: Buddy\n",
    "my_dog.speak() # Output: Woof!\n"
   ]
  },
  {
   "cell_type": "code",
   "execution_count": null,
   "id": "9032700f-d4da-40f2-8248-19786053de30",
   "metadata": {},
   "outputs": [],
   "source": [
    "class Flyer:\n",
    "    def fly(self):\n",
    "        print(\"Flying\")\n",
    "\n",
    "class Swimmer:\n",
    "    def swim(self):\n",
    "        print(\"Swimming\")\n",
    "\n",
    "class Duck(Flyer, Swimmer):\n",
    "    def quack(self):\n",
    "        print(\"Quack\")\n",
    "\n",
    "my_duck = Duck()\n",
    "my_duck.fly() # Output: Flying\n",
    "my_duck.swim() # Output: Swimming\n",
    "my_duck.quack() # Output: Quack\n"
   ]
  },
  {
   "cell_type": "markdown",
   "id": "e77e7424-5bff-4a1a-bf37-081967880280",
   "metadata": {},
   "source": [
    "Multiple inheritance: In multiple inheritance, a new class is derived from multiple parent classes."
   ]
  },
  {
   "cell_type": "code",
   "execution_count": 17,
   "id": "0737c20e-0ee4-429b-a1c7-657686b0f3f4",
   "metadata": {},
   "outputs": [
    {
     "name": "stdout",
     "output_type": "stream",
     "text": [
      "Flying\n",
      "Swimming\n",
      "Quack\n"
     ]
    }
   ],
   "source": [
    "class Flyer:\n",
    "    def fly(self):\n",
    "        print(\"Flying\")\n",
    "\n",
    "class Swimmer:\n",
    "    def swim(self):\n",
    "        print(\"Swimming\")\n",
    "\n",
    "class Duck(Flyer, Swimmer):\n",
    "    def quack(self):\n",
    "        print(\"Quack\")\n",
    "\n",
    "my_duck = Duck()\n",
    "my_duck.fly() \n",
    "my_duck.swim() \n",
    "my_duck.quack() \n"
   ]
  },
  {
   "cell_type": "markdown",
   "id": "dba837cd-a146-4ea7-ba7d-c97da8541fd9",
   "metadata": {},
   "source": [
    "Multi-level inheritance: In multi-level inheritance, a new class is derived from a parent class, which is itself derived from another parent class."
   ]
  },
  {
   "cell_type": "code",
   "execution_count": 18,
   "id": "21d66b2d-98c4-4e62-9cba-6cf0ad93564b",
   "metadata": {},
   "outputs": [
    {
     "name": "stdout",
     "output_type": "stream",
     "text": [
      "Max\n",
      "Woof!\n",
      "Guarding\n"
     ]
    }
   ],
   "source": [
    "class Animal:\n",
    "    def __init__(self, name):\n",
    "        self.name = name\n",
    "    \n",
    "    def speak(self):\n",
    "        print(\"Animal sound\")\n",
    "\n",
    "class Dog(Animal):\n",
    "    def __init__(self, name):\n",
    "        super().__init__(name)\n",
    "    \n",
    "    def speak(self):\n",
    "        print(\"Woof!\")\n",
    "\n",
    "class GermanShepherd(Dog):\n",
    "    def __init__(self, name):\n",
    "        super().__init__(name)\n",
    "    \n",
    "    def guard(self):\n",
    "        print(\"Guarding\")\n",
    "\n",
    "my_dog = GermanShepherd(\"Max\")\n",
    "print(my_dog.name) # Output: Max\n",
    "my_dog.speak() # Output: Woof!\n",
    "my_dog.guard() # Output: Guarding\n"
   ]
  },
  {
   "cell_type": "code",
   "execution_count": null,
   "id": "95b4cb7c-f403-47a9-9c63-9382f4a04bea",
   "metadata": {},
   "outputs": [],
   "source": []
  }
 ],
 "metadata": {
  "kernelspec": {
   "display_name": "Python 3 (ipykernel)",
   "language": "python",
   "name": "python3"
  },
  "language_info": {
   "codemirror_mode": {
    "name": "ipython",
    "version": 3
   },
   "file_extension": ".py",
   "mimetype": "text/x-python",
   "name": "python",
   "nbconvert_exporter": "python",
   "pygments_lexer": "ipython3",
   "version": "3.10.8"
  }
 },
 "nbformat": 4,
 "nbformat_minor": 5
}
