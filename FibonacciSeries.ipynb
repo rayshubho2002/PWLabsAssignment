{
 "cells": [
  {
   "cell_type": "code",
   "execution_count": 6,
   "metadata": {},
   "outputs": [
    {
     "name": "stdout",
     "output_type": "stream",
     "text": [
      "0 1 1 2 3 5 8 "
     ]
    }
   ],
   "source": [
    "num = int(input(\"Enter any number :\"))\n",
    "n1,n2 = 0,1\n",
    "sum = 0\n",
    "if num<=0 :\n",
    "    print(\"Invalid Input\")\n",
    "    exit()\n",
    "else:\n",
    "    for i in range(0,num):\n",
    "        print(sum,end=\" \")\n",
    "        n1=n2\n",
    "        n2=sum\n",
    "        sum=n2+n1\n"
   ]
  },
  {
   "cell_type": "code",
   "execution_count": null,
   "metadata": {},
   "outputs": [],
   "source": []
  }
 ],
 "metadata": {
  "kernelspec": {
   "display_name": "base",
   "language": "python",
   "name": "python3"
  },
  "language_info": {
   "codemirror_mode": {
    "name": "ipython",
    "version": 3
   },
   "file_extension": ".py",
   "mimetype": "text/x-python",
   "name": "python",
   "nbconvert_exporter": "python",
   "pygments_lexer": "ipython3",
   "version": "3.9.13"
  },
  "orig_nbformat": 4
 },
 "nbformat": 4,
 "nbformat_minor": 2
}
